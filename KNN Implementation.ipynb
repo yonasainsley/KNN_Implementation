{
  "nbformat": 4,
  "nbformat_minor": 0,
  "metadata": {
    "colab": {
      "name": "uasML - KNN - no.1.ipynb",
      "provenance": [],
      "collapsed_sections": []
    },
    "kernelspec": {
      "name": "python3",
      "display_name": "Python 3"
    },
    "language_info": {
      "name": "python"
    }
  },
  "cells": [
    {
      "cell_type": "code",
      "metadata": {
        "id": "-eIpwR5Yshpo"
      },
      "source": [
        "import numpy as np\n",
        "import pandas as pd\n",
        "from scipy.stats import mode\n",
        "from sklearn.metrics import accuracy_score\n",
        "from sklearn.preprocessing import StandardScaler"
      ],
      "execution_count": null,
      "outputs": []
    },
    {
      "cell_type": "markdown",
      "metadata": {
        "id": "dylKe0WB0iBP"
      },
      "source": [
        "#Load Dataset"
      ]
    },
    {
      "cell_type": "code",
      "metadata": {
        "id": "Xzry2JxctQ4a"
      },
      "source": [
        "X = {\n",
        "     'ID':[1, 2, 3, 4],\n",
        "     'd1':[1.1, 1.4, 1, 20],\n",
        "     'd2':[100, 1.4, 1, 20],\n",
        "     'd3':[1.2, 1.4, 1, 20],\n",
        "     'd4':[1.6, 1.5, 1, 20],\n",
        "     'd5':[1.6, 100, 1, 20],\n",
        "     'd6':[1.1, 1.4, 1, 20],\n",
        "     'd7':[1.2, 1.2, 2, 20],\n",
        "     'd8':[1.2, 1.2, 100, 20],\n",
        "     'd9':[1, 1, 2, 20],\n",
        "     'd10':[1, 1, 2, 20]\n",
        "}\n",
        "X = pd.DataFrame(X)\n",
        "\n",
        "y = X['ID']\n",
        "X = X.drop('ID', axis=1)\n",
        "\n",
        "input = np.array([1,1,1,1,1,1,1,1,1,1])\n",
        "input = input.reshape(1,-1)"
      ],
      "execution_count": null,
      "outputs": []
    },
    {
      "cell_type": "code",
      "metadata": {
        "id": "c3dMQauMySmb"
      },
      "source": [
        "scaler = StandardScaler().fit(X)\n",
        "X = scaler.transform(X)\n",
        "input = scaler.transform(input)"
      ],
      "execution_count": null,
      "outputs": []
    },
    {
      "cell_type": "markdown",
      "metadata": {
        "id": "aSuAOmMT0aEU"
      },
      "source": [
        "#Euclidean Distance"
      ]
    },
    {
      "cell_type": "code",
      "metadata": {
        "id": "buz364q1sab0"
      },
      "source": [
        "def eucledian(p1,p2):\n",
        "    dist = np.sqrt(np.sum((p1-p2)**2))\n",
        "    return dist"
      ],
      "execution_count": null,
      "outputs": []
    },
    {
      "cell_type": "markdown",
      "metadata": {
        "id": "u59Lia9G0YDJ"
      },
      "source": [
        "#Training"
      ]
    },
    {
      "cell_type": "code",
      "metadata": {
        "id": "9MPcEzxevbdv"
      },
      "source": [
        "def predict(x_train, y , x_input, k):\n",
        "    op_labels = []\n",
        "     \n",
        "    #Loop through the Datapoints to be classified\n",
        "    for item in x_input: \n",
        "         \n",
        "        #Array to store distances\n",
        "        point_dist = []\n",
        "         \n",
        "        #Loop through each training Data\n",
        "        for j in range(len(x_train)): \n",
        "            distances = eucledian(np.array(x_train[j,:]) , item) \n",
        "            #Calculating the distance\n",
        "            point_dist.append(distances) \n",
        "        point_dist = np.array(point_dist) \n",
        "         \n",
        "        #Sorting the array while preserving the index\n",
        "        #Keeping the first K datapoints\n",
        "        dist = np.argsort(point_dist)[:k] \n",
        "\n",
        "        #Labels of the K datapoints from above\n",
        "        labels = y[dist]\n",
        "         \n",
        "        #Majority voting\n",
        "        lab = mode(labels) \n",
        "        lab = lab.mode[0]\n",
        "        op_labels.append(lab)\n",
        " \n",
        "    return op_labels"
      ],
      "execution_count": null,
      "outputs": []
    },
    {
      "cell_type": "markdown",
      "metadata": {
        "id": "sdYkzmBM0k4k"
      },
      "source": [
        "#Distance Calculation"
      ]
    },
    {
      "cell_type": "code",
      "metadata": {
        "colab": {
          "base_uri": "https://localhost:8080/"
        },
        "id": "l_aCNUH6-bwt",
        "outputId": "7f3aa4dc-e3a2-4403-9c20-9a5e803c4d2f"
      },
      "source": [
        "for i in range(0,4):\n",
        "    distance = eucledian(X[i], input)\n",
        "    print(f'Distance from ID-{i+1} to input: {distance}')"
      ],
      "execution_count": null,
      "outputs": [
        {
          "output_type": "stream",
          "text": [
            "Distance from ID-1 to input: 2.4281617793233603\n",
            "Distance from ID-2 to input: 2.4312143204392545\n",
            "Distance from ID-3 to input: 2.436141591498022\n",
            "Distance from ID-4 to input: 6.25375351718252\n"
          ],
          "name": "stdout"
        }
      ]
    },
    {
      "cell_type": "markdown",
      "metadata": {
        "id": "EGwm6oer0mrr"
      },
      "source": [
        "#Finding closest object"
      ]
    },
    {
      "cell_type": "code",
      "metadata": {
        "colab": {
          "base_uri": "https://localhost:8080/"
        },
        "id": "4MHpVQEhylM8",
        "outputId": "285495e8-ee69-433e-9938-16ce6dfe4f20"
      },
      "source": [
        "y_pred = predict(X, y, input, 1)\n",
        "\n",
        "print(f'Input is closest to: ID-{y_pred}')"
      ],
      "execution_count": null,
      "outputs": [
        {
          "output_type": "stream",
          "text": [
            "Input is closest to: ID-[1]\n"
          ],
          "name": "stdout"
        }
      ]
    },
    {
      "cell_type": "markdown",
      "metadata": {
        "id": "gGy4yQKlFCQp"
      },
      "source": [
        "#With Sklearn"
      ]
    },
    {
      "cell_type": "code",
      "metadata": {
        "colab": {
          "base_uri": "https://localhost:8080/"
        },
        "id": "7NLspPj99zBN",
        "outputId": "495ac53b-8e12-4a70-8313-56136ad059ac"
      },
      "source": [
        "from sklearn.neighbors import KNeighborsClassifier\n",
        "knn = KNeighborsClassifier(n_neighbors=1)\n",
        "model = knn.fit(X,y)\n",
        "label = knn.predict(input)\n",
        "print(f'Input is closest to: ID-{label}')"
      ],
      "execution_count": null,
      "outputs": [
        {
          "output_type": "stream",
          "text": [
            "Input is closest to: ID-[1]\n"
          ],
          "name": "stdout"
        }
      ]
    },
    {
      "cell_type": "code",
      "metadata": {
        "id": "MQoNvRoA_KHV"
      },
      "source": [
        ""
      ],
      "execution_count": null,
      "outputs": []
    }
  ]
}